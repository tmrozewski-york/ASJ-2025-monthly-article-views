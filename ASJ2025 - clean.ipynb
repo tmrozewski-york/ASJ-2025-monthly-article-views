{
 "cells": [
  {
   "cell_type": "markdown",
   "id": "dca9bc23",
   "metadata": {},
   "source": [
    "Import required modules."
   ]
  },
  {
   "cell_type": "code",
   "execution_count": null,
   "id": "03b9b379",
   "metadata": {},
   "outputs": [],
   "source": [
    "import os\n",
    "import pandas as pd\n",
    "import requests\n",
    "import json\n",
   ]
  },
  {
   "cell_type": "markdown",
   "id": "73faa473",
   "metadata": {},
   "source": [
    "Some stuff for setting up your working directories."
   ]
  },
  {
   "cell_type": "code",
   "execution_count": null,
   "id": "2bac7f68",
   "metadata": {},
   "outputs": [],
   "source": [
    "# get your working directory\n",
    "os.getcwd()\n",
    "\n",
    "# if necessary, change your working directory, replacing PATH with path\n",
    "# os.chdir(PATH)\n",
    "\n",
    "# if you're in the right directory and want to create a sub-directory for your ASJ 2025 stats, run this - it will only create it if it doesn't already exist\n",
    "directory_name = \"ASJ 2025\"\n",
    "try:\n",
    "    os.mkdir(directory_name)\n",
    "    print(f\"Directory '{directory_name}' created successfully.\")\n",
    "except FileExistsError:\n",
    "    print(f\"Directory '{directory_name}' already exists.\")\n",
    "except PermissionError:\n",
    "    print(f\"Permission denied: Unable to create '{directory_name}'.\")\n",
    "except Exception as e:\n",
    "    print(f\"An error occurred: {e}\")\n",
    "os.chdir(directory_name) # moves you to the new directory"
   ]
  },
  {
   "cell_type": "markdown",
   "id": "e11207b1",
   "metadata": {},
   "source": [
    "Set up two empty lists for your data points (one for the month, one for the value).\n",
    "Once you parse the data returned by the API call, you'll dump the data into these lists.\n",
    "Later, you'll zip the lists together into a table."
   ]
  },
  {
   "cell_type": "code",
   "execution_count": null,
   "id": "bd43fdaa",
   "metadata": {},
   "outputs": [],
   "source": [
    "month_list = []\n",
    "value_list = []"
   ]
  },
  {
   "cell_type": "markdown",
   "id": "fd1df883",
   "metadata": {},
   "source": [
    "Set up the API query with endpoint URL, API key, and date range.\n",
    "Start and end dates are pre-populated with ASJ reporting dates.\n",
    "The query defaults to providing monthly totals so that parameter doesn't need to be set."
   ]
  },
  {
   "cell_type": "code",
   "execution_count": null,
   "id": "a7033d52",
   "metadata": {},
   "outputs": [],
   "source": [
    "galviews = \"https://DOMAIN/index.php/CONTEXT NAME/api/v1/stats/publications/galley\" # replace DOMAIN and CONTEXT NAME as appropriate\n",
    "key = \"KEY\" # replace KEY with the actual key\n",
    "dateEnd = \"2025-05-31\"\n",
    "dateStart = \"2023-06-01\""
   ]
  },
  {
   "cell_type": "markdown",
   "id": "e51326a2",
   "metadata": {},
   "source": [
    "Run the API call with those parameters."
   ]
  },
  {
   "cell_type": "code",
   "execution_count": null,
   "id": "0187790c",
   "metadata": {},
   "outputs": [],
   "source": [
    "galviews_call = requests.get(galviews,params={'apiToken':key,'dateStart':dateStart,'dateEnd':dateEnd})"
   ]
  },
  {
   "cell_type": "markdown",
   "id": "b8f1d7dd",
   "metadata": {},
   "source": [
    "Wrangle the returned data into something Python can work with\n",
    "In this case, the JSON data becomes a list of dictionaries; each dictionary contains the stats for one month"
   ]
  },
  {
   "cell_type": "code",
   "execution_count": null,
   "id": "3d97a9fb",
   "metadata": {},
   "outputs": [],
   "source": [
    "galviews_dump = json.dumps(galviews_call.json())\n",
    "galviews_load = json.loads(galviews_dump)"
   ]
  },
  {
   "cell_type": "markdown",
   "id": "22f313db",
   "metadata": {},
   "source": [
    "Iterate through the list and write the month and value values from each dictionary into the empty lists"
   ]
  },
  {
   "cell_type": "code",
   "execution_count": null,
   "id": "fad3a8fa",
   "metadata": {},
   "outputs": [],
   "source": [
    "for i in galviews_load:\n",
    "    date = i['date']\n",
    "    month_list.append(date)\n",
    "    value = i['value']\n",
    "    value_list.append(value)"
   ]
  },
  {
   "cell_type": "markdown",
   "id": "b7600c72",
   "metadata": {},
   "source": [
    "Create a dataframe (table) that zips the lists together and creates appropriate headings"
   ]
  },
  {
   "cell_type": "code",
   "execution_count": null,
   "id": "48c2ddd6",
   "metadata": {},
   "outputs": [],
   "source": [
    "df = pd.DataFrame(list(zip(month_list, value_list)), columns = ['month', 'value'])"
   ]
  },
  {
   "cell_type": "markdown",
   "id": "8a8fc780",
   "metadata": {},
   "source": [
    "Write the dataframe to a CSV file."
   ]
  },
  {
   "cell_type": "code",
   "execution_count": null,
   "id": "38c3199d",
   "metadata": {},
   "outputs": [],
   "source": [
    "df.to_csv(\"JOURNAL full text views for ASJ 2025.csv\",index=False)" # I put the journal name here
   ]
  }
 ],
 "metadata": {
  "kernelspec": {
   "display_name": "Python 3 (ipykernel)",
   "language": "python",
   "name": "python3"
  },
  "language_info": {
   "codemirror_mode": {
    "name": "ipython",
    "version": 3
   },
   "file_extension": ".py",
   "mimetype": "text/x-python",
   "name": "python",
   "nbconvert_exporter": "python",
   "pygments_lexer": "ipython3",
   "version": "3.9.16"
  }
 },
 "nbformat": 4,
 "nbformat_minor": 5
}
